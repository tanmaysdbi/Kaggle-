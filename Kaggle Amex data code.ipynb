{
 "cells": [
  {
   "cell_type": "markdown",
   "id": "6fe41d60",
   "metadata": {
    "papermill": {
     "duration": 0.019319,
     "end_time": "2022-09-28T09:10:42.648282",
     "exception": false,
     "start_time": "2022-09-28T09:10:42.628963",
     "status": "completed"
    },
    "tags": []
   },
   "source": [
    "# 1. Imports"
   ]
  },
  {
   "cell_type": "code",
   "execution_count": 1,
   "id": "355bcf92",
   "metadata": {
    "execution": {
     "iopub.execute_input": "2022-09-28T09:10:42.689672Z",
     "iopub.status.busy": "2022-09-28T09:10:42.689064Z",
     "iopub.status.idle": "2022-09-28T09:10:48.430096Z",
     "shell.execute_reply": "2022-09-28T09:10:48.428848Z"
    },
    "papermill": {
     "duration": 5.765093,
     "end_time": "2022-09-28T09:10:48.433094",
     "exception": false,
     "start_time": "2022-09-28T09:10:42.668001",
     "status": "completed"
    },
    "tags": []
   },
   "outputs": [
    {
     "data": {
      "text/html": [
       "<style type='text/css'>\n",
       ".datatable table.frame { margin-bottom: 0; }\n",
       ".datatable table.frame thead { border-bottom: none; }\n",
       ".datatable table.frame tr.coltypes td {  color: #FFFFFF;  line-height: 6px;  padding: 0 0.5em;}\n",
       ".datatable .bool    { background: #DDDD99; }\n",
       ".datatable .object  { background: #565656; }\n",
       ".datatable .int     { background: #5D9E5D; }\n",
       ".datatable .float   { background: #4040CC; }\n",
       ".datatable .str     { background: #CC4040; }\n",
       ".datatable .time    { background: #40CC40; }\n",
       ".datatable .row_index {  background: var(--jp-border-color3);  border-right: 1px solid var(--jp-border-color0);  color: var(--jp-ui-font-color3);  font-size: 9px;}\n",
       ".datatable .frame tbody td { text-align: left; }\n",
       ".datatable .frame tr.coltypes .row_index {  background: var(--jp-border-color0);}\n",
       ".datatable th:nth-child(2) { padding-left: 12px; }\n",
       ".datatable .hellipsis {  color: var(--jp-cell-editor-border-color);}\n",
       ".datatable .vellipsis {  background: var(--jp-layout-color0);  color: var(--jp-cell-editor-border-color);}\n",
       ".datatable .na {  color: var(--jp-cell-editor-border-color);  font-size: 80%;}\n",
       ".datatable .sp {  opacity: 0.25;}\n",
       ".datatable .footer { font-size: 9px; }\n",
       ".datatable .frame_dimensions {  background: var(--jp-border-color3);  border-top: 1px solid var(--jp-border-color0);  color: var(--jp-ui-font-color3);  display: inline-block;  opacity: 0.6;  padding: 1px 10px 1px 5px;}\n",
       "</style>\n"
      ],
      "text/plain": [
       "<IPython.core.display.HTML object>"
      ]
     },
     "metadata": {},
     "output_type": "display_data"
    }
   ],
   "source": [
    "import numpy as np # linear algebra\n",
    "import pandas as pd # data processing, CSV file I/O (e.g. pd.read_csv)\n",
    "import time\n",
    "from sklearn.feature_selection import VarianceThreshold\n",
    "from itertools import compress\n",
    "from sklearn.metrics import accuracy_score  \n",
    "from sklearn.metrics import precision_score                         \n",
    "from sklearn.metrics import recall_score\n",
    "from sklearn.model_selection import train_test_split\n",
    "from sklearn.metrics import roc_curve, auc, confusion_matrix\n",
    "\n",
    "from matplotlib import pyplot\n",
    "import seaborn as sns\n",
    "\n",
    "from lightgbm import LGBMClassifier\n",
    "from xgboost import XGBClassifier\n",
    "from catboost import CatBoostClassifier\n",
    "from IPython.display import FileLink\n",
    "\n",
    "import shap\n",
    "\n",
    "#CONSTS\n",
    "CATEGORICAL_FEATURES = [\"B_30\", \"B_38\", \"D_114\", \"D_116\", \"D_117\", \"D_120\", \"D_126\", \"D_63\", \"D_64\", \"D_66\", \"D_68\"]\n",
    "BATCH_SIZE = 1_000_000\n",
    "VARIANCE_THRESHOLD = 0.03\n",
    "NULL_VALUES_THRESHOLD = 0.95"
   ]
  },
  {
   "cell_type": "markdown",
   "id": "a6f2be46",
   "metadata": {
    "papermill": {
     "duration": 0.019114,
     "end_time": "2022-09-28T09:10:48.472416",
     "exception": false,
     "start_time": "2022-09-28T09:10:48.453302",
     "status": "completed"
    },
    "tags": []
   },
   "source": [
    "# 2. Helper Code"
   ]
  },
  {
   "cell_type": "code",
   "execution_count": 2,
   "id": "ee9631a8",
   "metadata": {
    "execution": {
     "iopub.execute_input": "2022-09-28T09:10:48.513058Z",
     "iopub.status.busy": "2022-09-28T09:10:48.512290Z",
     "iopub.status.idle": "2022-09-28T09:10:48.519696Z",
     "shell.execute_reply": "2022-09-28T09:10:48.518420Z"
    },
    "papermill": {
     "duration": 0.030205,
     "end_time": "2022-09-28T09:10:48.521691",
     "exception": false,
     "start_time": "2022-09-28T09:10:48.491486",
     "status": "completed"
    },
    "tags": []
   },
   "outputs": [],
   "source": [
    "#function for getting best indexes for batches, so we won't split the information of the same customer_ID\n",
    "#we are processing the data in batches due memory constraints \n",
    "def get_indexes_for_batching(df):\n",
    "    indexes = []\n",
    "    size = df.shape[0]\n",
    "    for i in range(BATCH_SIZE, size, BATCH_SIZE):\n",
    "        temp = currCustomer = df['customer_ID'][i]\n",
    "        index = i\n",
    "        while temp == currCustomer:\n",
    "            index += 1\n",
    "            temp = df['customer_ID'][index]\n",
    "        indexes.append(index)\n",
    "    if indexes[-1] != size - 1: \n",
    "        indexes.append(size - 1)\n",
    "    \n",
    "    return indexes"
   ]
  },
  {
   "cell_type": "code",
   "execution_count": 3,
   "id": "e0e0a3b3",
   "metadata": {
    "execution": {
     "iopub.execute_input": "2022-09-28T09:10:48.562185Z",
     "iopub.status.busy": "2022-09-28T09:10:48.561198Z",
     "iopub.status.idle": "2022-09-28T09:10:48.568628Z",
     "shell.execute_reply": "2022-09-28T09:10:48.567876Z"
    },
    "papermill": {
     "duration": 0.030043,
     "end_time": "2022-09-28T09:10:48.570841",
     "exception": false,
     "start_time": "2022-09-28T09:10:48.540798",
     "status": "completed"
    },
    "tags": []
   },
   "outputs": [],
   "source": [
    "#function that combines customer entries to one entry based on median of each colmun\n",
    "def combine_customer_entries(df, indexes, criteria, clean_rows=False):\n",
    "    prev_index = 0\n",
    "    train_data_features = pd.DataFrame()\n",
    "    for i, curr_index in enumerate(indexes):\n",
    "        if (criteria == 'mean'):\n",
    "            cur_df = df.iloc[prev_index:curr_index,:].groupby(['customer_ID']).mean()\n",
    "        elif (criteria == 'median'):\n",
    "            cur_df = df.iloc[prev_index:curr_index,:].groupby(['customer_ID']).median()\n",
    "        else:\n",
    "            print(\"Error, must choose mean or median\")\n",
    "            return\n",
    "        if (clean_rows):\n",
    "            cur_df = cur_df.dropna(how='all')\n",
    "        train_data_features = train_data_features.append(cur_df)\n",
    "        prev_index = curr_index\n",
    "        print(i, train_data_features.shape)\n",
    "    return train_data_features"
   ]
  },
  {
   "cell_type": "code",
   "execution_count": 4,
   "id": "98e93024",
   "metadata": {
    "execution": {
     "iopub.execute_input": "2022-09-28T09:10:48.612506Z",
     "iopub.status.busy": "2022-09-28T09:10:48.611808Z",
     "iopub.status.idle": "2022-09-28T09:10:48.616217Z",
     "shell.execute_reply": "2022-09-28T09:10:48.615523Z"
    },
    "papermill": {
     "duration": 0.0284,
     "end_time": "2022-09-28T09:10:48.618508",
     "exception": false,
     "start_time": "2022-09-28T09:10:48.590108",
     "status": "completed"
    },
    "tags": []
   },
   "outputs": [],
   "source": [
    "#function that keeps only the colmuns above variance threshold \n",
    "def apply_variance_threshold(df):\n",
    "    selector = VarianceThreshold(VARIANCE_THRESHOLD)\n",
    "    selector.fit(df)\n",
    "    return selector.get_support(indices=True)"
   ]
  },
  {
   "cell_type": "markdown",
   "id": "068a7033",
   "metadata": {
    "papermill": {
     "duration": 0.018847,
     "end_time": "2022-09-28T09:10:48.656617",
     "exception": false,
     "start_time": "2022-09-28T09:10:48.637770",
     "status": "completed"
    },
    "tags": []
   },
   "source": [
    "# 3. Loading the data"
   ]
  },
  {
   "cell_type": "code",
   "execution_count": 5,
   "id": "58f3ea6f",
   "metadata": {
    "execution": {
     "iopub.execute_input": "2022-09-28T09:10:48.697202Z",
     "iopub.status.busy": "2022-09-28T09:10:48.696520Z",
     "iopub.status.idle": "2022-09-28T09:11:44.776288Z",
     "shell.execute_reply": "2022-09-28T09:11:44.774855Z"
    },
    "papermill": {
     "duration": 56.102862,
     "end_time": "2022-09-28T09:11:44.778879",
     "exception": false,
     "start_time": "2022-09-28T09:10:48.676017",
     "status": "completed"
    },
    "tags": []
   },
   "outputs": [
    {
     "name": "stdout",
     "output_type": "stream",
     "text": [
      "The shape with the categorical features is: (5531451, 191)\n",
      "The shape of the train labels is: (458913,)\n"
     ]
    }
   ],
   "source": [
    "#load train data\n",
    "train_data = pd.read_parquet('../input/amex-parquet/train_data.parquet')\n",
    "print(\"The shape with the categorical features is:\", train_data.shape)\n",
    "\n",
    "#get train labels\n",
    "train_labels = pd.read_csv('../input/amex-default-prediction/train_labels.csv').iloc[:,1]\n",
    "print(\"The shape of the train labels is:\", train_labels.shape)"
   ]
  },
  {
   "cell_type": "code",
   "execution_count": 6,
   "id": "d61dc908",
   "metadata": {
    "execution": {
     "iopub.execute_input": "2022-09-28T09:11:44.823502Z",
     "iopub.status.busy": "2022-09-28T09:11:44.822396Z",
     "iopub.status.idle": "2022-09-28T09:11:48.764032Z",
     "shell.execute_reply": "2022-09-28T09:11:48.762574Z"
    },
    "papermill": {
     "duration": 3.967059,
     "end_time": "2022-09-28T09:11:48.768219",
     "exception": false,
     "start_time": "2022-09-28T09:11:44.801160",
     "status": "completed"
    },
    "tags": []
   },
   "outputs": [
    {
     "name": "stdout",
     "output_type": "stream",
     "text": [
      "The shape without the categorical features is: (5531451, 179)\n"
     ]
    },
    {
     "data": {
      "text/html": [
       "<div>\n",
       "<style scoped>\n",
       "    .dataframe tbody tr th:only-of-type {\n",
       "        vertical-align: middle;\n",
       "    }\n",
       "\n",
       "    .dataframe tbody tr th {\n",
       "        vertical-align: top;\n",
       "    }\n",
       "\n",
       "    .dataframe thead th {\n",
       "        text-align: right;\n",
       "    }\n",
       "</style>\n",
       "<table border=\"1\" class=\"dataframe\">\n",
       "  <thead>\n",
       "    <tr style=\"text-align: right;\">\n",
       "      <th></th>\n",
       "      <th>customer_ID</th>\n",
       "      <th>S_2</th>\n",
       "      <th>P_2</th>\n",
       "      <th>D_39</th>\n",
       "      <th>B_1</th>\n",
       "      <th>B_2</th>\n",
       "      <th>R_1</th>\n",
       "      <th>S_3</th>\n",
       "      <th>D_41</th>\n",
       "      <th>B_3</th>\n",
       "      <th>...</th>\n",
       "      <th>D_136</th>\n",
       "      <th>D_137</th>\n",
       "      <th>D_138</th>\n",
       "      <th>D_139</th>\n",
       "      <th>D_140</th>\n",
       "      <th>D_141</th>\n",
       "      <th>D_142</th>\n",
       "      <th>D_143</th>\n",
       "      <th>D_144</th>\n",
       "      <th>D_145</th>\n",
       "    </tr>\n",
       "  </thead>\n",
       "  <tbody>\n",
       "    <tr>\n",
       "      <th>0</th>\n",
       "      <td>0000099d6bd597052cdcda90ffabf56573fe9d7c79be5f...</td>\n",
       "      <td>2017-03-09</td>\n",
       "      <td>0.938469</td>\n",
       "      <td>0.001733</td>\n",
       "      <td>0.008724</td>\n",
       "      <td>1.006838</td>\n",
       "      <td>0.009228</td>\n",
       "      <td>0.124035</td>\n",
       "      <td>0.008771</td>\n",
       "      <td>0.004709</td>\n",
       "      <td>...</td>\n",
       "      <td>NaN</td>\n",
       "      <td>NaN</td>\n",
       "      <td>NaN</td>\n",
       "      <td>0.002427</td>\n",
       "      <td>0.003706</td>\n",
       "      <td>0.003818</td>\n",
       "      <td>NaN</td>\n",
       "      <td>0.000569</td>\n",
       "      <td>0.000610</td>\n",
       "      <td>0.002674</td>\n",
       "    </tr>\n",
       "    <tr>\n",
       "      <th>1</th>\n",
       "      <td>0000099d6bd597052cdcda90ffabf56573fe9d7c79be5f...</td>\n",
       "      <td>2017-04-07</td>\n",
       "      <td>0.936665</td>\n",
       "      <td>0.005775</td>\n",
       "      <td>0.004923</td>\n",
       "      <td>1.000653</td>\n",
       "      <td>0.006151</td>\n",
       "      <td>0.126750</td>\n",
       "      <td>0.000798</td>\n",
       "      <td>0.002714</td>\n",
       "      <td>...</td>\n",
       "      <td>NaN</td>\n",
       "      <td>NaN</td>\n",
       "      <td>NaN</td>\n",
       "      <td>0.003954</td>\n",
       "      <td>0.003167</td>\n",
       "      <td>0.005032</td>\n",
       "      <td>NaN</td>\n",
       "      <td>0.009576</td>\n",
       "      <td>0.005492</td>\n",
       "      <td>0.009217</td>\n",
       "    </tr>\n",
       "    <tr>\n",
       "      <th>2</th>\n",
       "      <td>0000099d6bd597052cdcda90ffabf56573fe9d7c79be5f...</td>\n",
       "      <td>2017-05-28</td>\n",
       "      <td>0.954180</td>\n",
       "      <td>0.091505</td>\n",
       "      <td>0.021655</td>\n",
       "      <td>1.009672</td>\n",
       "      <td>0.006815</td>\n",
       "      <td>0.123977</td>\n",
       "      <td>0.007598</td>\n",
       "      <td>0.009423</td>\n",
       "      <td>...</td>\n",
       "      <td>NaN</td>\n",
       "      <td>NaN</td>\n",
       "      <td>NaN</td>\n",
       "      <td>0.003269</td>\n",
       "      <td>0.007329</td>\n",
       "      <td>0.000427</td>\n",
       "      <td>NaN</td>\n",
       "      <td>0.003429</td>\n",
       "      <td>0.006986</td>\n",
       "      <td>0.002603</td>\n",
       "    </tr>\n",
       "    <tr>\n",
       "      <th>3</th>\n",
       "      <td>0000099d6bd597052cdcda90ffabf56573fe9d7c79be5f...</td>\n",
       "      <td>2017-06-13</td>\n",
       "      <td>0.960384</td>\n",
       "      <td>0.002455</td>\n",
       "      <td>0.013683</td>\n",
       "      <td>1.002700</td>\n",
       "      <td>0.001373</td>\n",
       "      <td>0.117169</td>\n",
       "      <td>0.000685</td>\n",
       "      <td>0.005531</td>\n",
       "      <td>...</td>\n",
       "      <td>NaN</td>\n",
       "      <td>NaN</td>\n",
       "      <td>NaN</td>\n",
       "      <td>0.006117</td>\n",
       "      <td>0.004516</td>\n",
       "      <td>0.003200</td>\n",
       "      <td>NaN</td>\n",
       "      <td>0.008419</td>\n",
       "      <td>0.006527</td>\n",
       "      <td>0.009600</td>\n",
       "    </tr>\n",
       "    <tr>\n",
       "      <th>4</th>\n",
       "      <td>0000099d6bd597052cdcda90ffabf56573fe9d7c79be5f...</td>\n",
       "      <td>2017-07-16</td>\n",
       "      <td>0.947248</td>\n",
       "      <td>0.002483</td>\n",
       "      <td>0.015193</td>\n",
       "      <td>1.000727</td>\n",
       "      <td>0.007605</td>\n",
       "      <td>0.117325</td>\n",
       "      <td>0.004653</td>\n",
       "      <td>0.009312</td>\n",
       "      <td>...</td>\n",
       "      <td>NaN</td>\n",
       "      <td>NaN</td>\n",
       "      <td>NaN</td>\n",
       "      <td>0.003671</td>\n",
       "      <td>0.004946</td>\n",
       "      <td>0.008889</td>\n",
       "      <td>NaN</td>\n",
       "      <td>0.001670</td>\n",
       "      <td>0.008126</td>\n",
       "      <td>0.009827</td>\n",
       "    </tr>\n",
       "  </tbody>\n",
       "</table>\n",
       "<p>5 rows × 179 columns</p>\n",
       "</div>"
      ],
      "text/plain": [
       "                                         customer_ID         S_2       P_2  \\\n",
       "0  0000099d6bd597052cdcda90ffabf56573fe9d7c79be5f...  2017-03-09  0.938469   \n",
       "1  0000099d6bd597052cdcda90ffabf56573fe9d7c79be5f...  2017-04-07  0.936665   \n",
       "2  0000099d6bd597052cdcda90ffabf56573fe9d7c79be5f...  2017-05-28  0.954180   \n",
       "3  0000099d6bd597052cdcda90ffabf56573fe9d7c79be5f...  2017-06-13  0.960384   \n",
       "4  0000099d6bd597052cdcda90ffabf56573fe9d7c79be5f...  2017-07-16  0.947248   \n",
       "\n",
       "       D_39       B_1       B_2       R_1       S_3      D_41       B_3  ...  \\\n",
       "0  0.001733  0.008724  1.006838  0.009228  0.124035  0.008771  0.004709  ...   \n",
       "1  0.005775  0.004923  1.000653  0.006151  0.126750  0.000798  0.002714  ...   \n",
       "2  0.091505  0.021655  1.009672  0.006815  0.123977  0.007598  0.009423  ...   \n",
       "3  0.002455  0.013683  1.002700  0.001373  0.117169  0.000685  0.005531  ...   \n",
       "4  0.002483  0.015193  1.000727  0.007605  0.117325  0.004653  0.009312  ...   \n",
       "\n",
       "   D_136  D_137  D_138     D_139     D_140     D_141  D_142     D_143  \\\n",
       "0    NaN    NaN    NaN  0.002427  0.003706  0.003818    NaN  0.000569   \n",
       "1    NaN    NaN    NaN  0.003954  0.003167  0.005032    NaN  0.009576   \n",
       "2    NaN    NaN    NaN  0.003269  0.007329  0.000427    NaN  0.003429   \n",
       "3    NaN    NaN    NaN  0.006117  0.004516  0.003200    NaN  0.008419   \n",
       "4    NaN    NaN    NaN  0.003671  0.004946  0.008889    NaN  0.001670   \n",
       "\n",
       "      D_144     D_145  \n",
       "0  0.000610  0.002674  \n",
       "1  0.005492  0.009217  \n",
       "2  0.006986  0.002603  \n",
       "3  0.006527  0.009600  \n",
       "4  0.008126  0.009827  \n",
       "\n",
       "[5 rows x 179 columns]"
      ]
     },
     "execution_count": 6,
     "metadata": {},
     "output_type": "execute_result"
    }
   ],
   "source": [
    "#remove catagorical features & target colmun\n",
    "train_data = train_data.drop(CATEGORICAL_FEATURES, axis=1)\n",
    "train_data = train_data.drop('target', axis=1)\n",
    "print(\"The shape without the categorical features is:\", train_data.shape)\n",
    "train_data.head()"
   ]
  },
  {
   "cell_type": "code",
   "execution_count": 7,
   "id": "eca211bb",
   "metadata": {
    "execution": {
     "iopub.execute_input": "2022-09-28T09:11:48.813371Z",
     "iopub.status.busy": "2022-09-28T09:11:48.812980Z",
     "iopub.status.idle": "2022-09-28T09:11:52.691658Z",
     "shell.execute_reply": "2022-09-28T09:11:52.690102Z"
    },
    "papermill": {
     "duration": 3.904998,
     "end_time": "2022-09-28T09:11:52.694318",
     "exception": false,
     "start_time": "2022-09-28T09:11:48.789320",
     "status": "completed"
    },
    "tags": []
   },
   "outputs": [
    {
     "name": "stdout",
     "output_type": "stream",
     "text": [
      "(5531451, 179)\n",
      "(5531451, 140)\n"
     ]
    }
   ],
   "source": [
    "#remove colmuns that have more then THRESHOLD precent of missing values\n",
    "print(train_data.shape)\n",
    "train_data = train_data.dropna(axis=1, thresh=int(NULL_VALUES_THRESHOLD*train_data.shape[0]))\n",
    "print(train_data.shape)"
   ]
  },
  {
   "cell_type": "code",
   "execution_count": 8,
   "id": "6ef0880b",
   "metadata": {
    "execution": {
     "iopub.execute_input": "2022-09-28T09:11:52.738353Z",
     "iopub.status.busy": "2022-09-28T09:11:52.737946Z",
     "iopub.status.idle": "2022-09-28T09:11:52.760481Z",
     "shell.execute_reply": "2022-09-28T09:11:52.758855Z"
    },
    "papermill": {
     "duration": 0.047271,
     "end_time": "2022-09-28T09:11:52.762717",
     "exception": false,
     "start_time": "2022-09-28T09:11:52.715446",
     "status": "completed"
    },
    "tags": []
   },
   "outputs": [
    {
     "name": "stdout",
     "output_type": "stream",
     "text": [
      "[1000012, 2000003, 3000003, 4000002, 5000008, 5531450]\n"
     ]
    }
   ],
   "source": [
    "#get indexes for processing batches of data\n",
    "indexes_for_batching = get_indexes_for_batching(train_data)\n",
    "print(indexes_for_batching)"
   ]
  },
  {
   "cell_type": "markdown",
   "id": "09f4078d",
   "metadata": {
    "papermill": {
     "duration": 0.020909,
     "end_time": "2022-09-28T09:11:52.804738",
     "exception": false,
     "start_time": "2022-09-28T09:11:52.783829",
     "status": "completed"
    },
    "tags": []
   },
   "source": [
    "# 4. Preprocessing the data"
   ]
  },
  {
   "cell_type": "code",
   "execution_count": 9,
   "id": "8b4dbb16",
   "metadata": {
    "execution": {
     "iopub.execute_input": "2022-09-28T09:11:52.852651Z",
     "iopub.status.busy": "2022-09-28T09:11:52.852212Z",
     "iopub.status.idle": "2022-09-28T09:11:52.859369Z",
     "shell.execute_reply": "2022-09-28T09:11:52.858212Z"
    },
    "papermill": {
     "duration": 0.031938,
     "end_time": "2022-09-28T09:11:52.861475",
     "exception": false,
     "start_time": "2022-09-28T09:11:52.829537",
     "status": "completed"
    },
    "tags": []
   },
   "outputs": [],
   "source": [
    "#creates the features vector for each 'customer_ID' according to criteria (mean or median)\n",
    "#splits the dataset to train set and test set\n",
    "def preprocessing_and_split_data(df_train_data, df_train_labels, indexes_for_batching, criteria):\n",
    "    #get combined entries for each customer based on median of each clomun \n",
    "    data_features = combine_customer_entries(df_train_data, indexes_for_batching, criteria)\n",
    "    \n",
    "    #setting train and test from training data received from processing\n",
    "    x_train_split, x_test_split, y_train_split, y_test_split = train_test_split(data_features, df_train_labels, test_size=0.1, random_state=26)\n",
    "    \n",
    "    #get only data with colmuns with variance above threshold\n",
    "    #the colmuns to keep are determined only by train set \n",
    "    columns_to_keep = apply_variance_threshold(x_train_split)\n",
    "    x_train_split_final = x_train_split[x_train_split.columns[columns_to_keep]]\n",
    "    x_test_split_final = x_test_split[x_test_split.columns[columns_to_keep]]\n",
    "    \n",
    "    return columns_to_keep, x_train_split_final, x_test_split_final, y_train_split, y_test_split"
   ]
  },
  {
   "cell_type": "code",
   "execution_count": 10,
   "id": "2bad20ee",
   "metadata": {
    "execution": {
     "iopub.execute_input": "2022-09-28T09:11:52.905142Z",
     "iopub.status.busy": "2022-09-28T09:11:52.904741Z",
     "iopub.status.idle": "2022-09-28T09:12:18.852122Z",
     "shell.execute_reply": "2022-09-28T09:12:18.850278Z"
    },
    "papermill": {
     "duration": 25.972991,
     "end_time": "2022-09-28T09:12:18.855277",
     "exception": false,
     "start_time": "2022-09-28T09:11:52.882286",
     "status": "completed"
    },
    "tags": []
   },
   "outputs": [
    {
     "name": "stdout",
     "output_type": "stream",
     "text": [
      "0 (82975, 138)\n",
      "1 (165819, 138)\n",
      "2 (248849, 138)\n",
      "3 (331853, 138)\n",
      "4 (414808, 138)\n",
      "5 (458913, 138)\n",
      "The median features shape: (413021, 93)\n"
     ]
    }
   ],
   "source": [
    "#creating the median features\n",
    "columns_to_keep_median, x_train_median, x_test_median, y_train_median, y_test_median \\\n",
    "= preprocessing_and_split_data(train_data, train_labels, indexes_for_batching, 'median')\n",
    "print(\"The median features shape:\", x_train_median.shape)"
   ]
  },
  {
   "cell_type": "code",
   "execution_count": 11,
   "id": "f998b7df",
   "metadata": {
    "execution": {
     "iopub.execute_input": "2022-09-28T09:12:18.900813Z",
     "iopub.status.busy": "2022-09-28T09:12:18.900406Z",
     "iopub.status.idle": "2022-09-28T09:12:32.753495Z",
     "shell.execute_reply": "2022-09-28T09:12:32.752593Z"
    },
    "papermill": {
     "duration": 13.879294,
     "end_time": "2022-09-28T09:12:32.756707",
     "exception": false,
     "start_time": "2022-09-28T09:12:18.877413",
     "status": "completed"
    },
    "tags": []
   },
   "outputs": [
    {
     "name": "stdout",
     "output_type": "stream",
     "text": [
      "0 (82975, 138)\n",
      "1 (165819, 138)\n",
      "2 (248849, 138)\n",
      "3 (331853, 138)\n",
      "4 (414808, 138)\n",
      "5 (458913, 138)\n",
      "The mean features shape: (413021, 93)\n",
      "The chosen columns: Index(['P_2', 'B_1', 'B_2', 'B_3', 'D_44', 'B_4', 'D_45', 'B_5', 'D_47', 'B_6',\n",
      "       'B_7', 'B_8', 'D_51', 'B_9', 'R_3', 'B_10', 'S_5', 'B_11', 'S_6',\n",
      "       'B_12', 'S_8', 'D_55', 'B_13', 'D_58', 'B_14', 'D_59', 'D_60', 'B_15',\n",
      "       'D_65', 'B_16', 'B_18', 'B_19', 'B_20', 'R_6', 'S_13', 'B_21', 'D_69',\n",
      "       'B_22', 'D_70', 'D_71', 'D_72', 'B_23', 'P_4', 'D_74', 'D_75', 'B_24',\n",
      "       'R_7', 'B_25', 'B_26', 'D_78', 'D_79', 'S_16', 'D_80', 'R_10', 'D_81',\n",
      "       'B_28', 'D_83', 'R_14', 'D_84', 'R_20', 'B_33', 'D_92', 'S_22', 'S_23',\n",
      "       'S_24', 'S_26', 'D_102', 'D_103', 'D_104', 'D_107', 'B_37', 'R_27',\n",
      "       'D_112', 'B_40', 'D_113', 'D_115', 'D_118', 'D_119', 'D_121', 'D_122',\n",
      "       'D_123', 'D_124', 'D_125', 'D_127', 'D_128', 'D_129', 'B_41', 'D_130',\n",
      "       'D_131', 'D_139', 'D_141', 'D_143', 'D_145'],\n",
      "      dtype='object')\n"
     ]
    },
    {
     "data": {
      "text/html": [
       "<div>\n",
       "<style scoped>\n",
       "    .dataframe tbody tr th:only-of-type {\n",
       "        vertical-align: middle;\n",
       "    }\n",
       "\n",
       "    .dataframe tbody tr th {\n",
       "        vertical-align: top;\n",
       "    }\n",
       "\n",
       "    .dataframe thead th {\n",
       "        text-align: right;\n",
       "    }\n",
       "</style>\n",
       "<table border=\"1\" class=\"dataframe\">\n",
       "  <thead>\n",
       "    <tr style=\"text-align: right;\">\n",
       "      <th></th>\n",
       "      <th>P_2</th>\n",
       "      <th>B_1</th>\n",
       "      <th>B_2</th>\n",
       "      <th>B_3</th>\n",
       "      <th>D_44</th>\n",
       "      <th>B_4</th>\n",
       "      <th>D_45</th>\n",
       "      <th>B_5</th>\n",
       "      <th>D_47</th>\n",
       "      <th>B_6</th>\n",
       "      <th>...</th>\n",
       "      <th>D_127</th>\n",
       "      <th>D_128</th>\n",
       "      <th>D_129</th>\n",
       "      <th>B_41</th>\n",
       "      <th>D_130</th>\n",
       "      <th>D_131</th>\n",
       "      <th>D_139</th>\n",
       "      <th>D_141</th>\n",
       "      <th>D_143</th>\n",
       "      <th>D_145</th>\n",
       "    </tr>\n",
       "    <tr>\n",
       "      <th>customer_ID</th>\n",
       "      <th></th>\n",
       "      <th></th>\n",
       "      <th></th>\n",
       "      <th></th>\n",
       "      <th></th>\n",
       "      <th></th>\n",
       "      <th></th>\n",
       "      <th></th>\n",
       "      <th></th>\n",
       "      <th></th>\n",
       "      <th></th>\n",
       "      <th></th>\n",
       "      <th></th>\n",
       "      <th></th>\n",
       "      <th></th>\n",
       "      <th></th>\n",
       "      <th></th>\n",
       "      <th></th>\n",
       "      <th></th>\n",
       "      <th></th>\n",
       "      <th></th>\n",
       "    </tr>\n",
       "  </thead>\n",
       "  <tbody>\n",
       "    <tr>\n",
       "      <th>9a3006b4c7305e4068ac1e887c7825cffc92ef56a4825e6ea48f493196efe328</th>\n",
       "      <td>0.744920</td>\n",
       "      <td>0.042318</td>\n",
       "      <td>0.507038</td>\n",
       "      <td>0.004948</td>\n",
       "      <td>0.005735</td>\n",
       "      <td>0.035569</td>\n",
       "      <td>0.008546</td>\n",
       "      <td>0.060970</td>\n",
       "      <td>0.319516</td>\n",
       "      <td>0.465602</td>\n",
       "      <td>...</td>\n",
       "      <td>0.004537</td>\n",
       "      <td>1.005193</td>\n",
       "      <td>0.008477</td>\n",
       "      <td>0.004163</td>\n",
       "      <td>0.002999</td>\n",
       "      <td>0.003436</td>\n",
       "      <td>0.006277</td>\n",
       "      <td>0.007374</td>\n",
       "      <td>0.006532</td>\n",
       "      <td>0.006302</td>\n",
       "    </tr>\n",
       "    <tr>\n",
       "      <th>0f02b103ab7c2b3726cac1c1a29014cc94105cac34bc8285b1854455209b131b</th>\n",
       "      <td>0.794052</td>\n",
       "      <td>0.016332</td>\n",
       "      <td>0.830824</td>\n",
       "      <td>0.003018</td>\n",
       "      <td>0.004547</td>\n",
       "      <td>0.063299</td>\n",
       "      <td>0.175595</td>\n",
       "      <td>0.025863</td>\n",
       "      <td>0.772988</td>\n",
       "      <td>0.198053</td>\n",
       "      <td>...</td>\n",
       "      <td>0.004965</td>\n",
       "      <td>0.005285</td>\n",
       "      <td>0.004759</td>\n",
       "      <td>0.005775</td>\n",
       "      <td>0.004848</td>\n",
       "      <td>0.004355</td>\n",
       "      <td>0.005328</td>\n",
       "      <td>0.003876</td>\n",
       "      <td>0.006597</td>\n",
       "      <td>0.004806</td>\n",
       "    </tr>\n",
       "    <tr>\n",
       "      <th>e75467ccaf4b04e09e7aa701c4a9866a3d6605e5a95e2d715f2f8fe63254f9cc</th>\n",
       "      <td>0.864360</td>\n",
       "      <td>0.029108</td>\n",
       "      <td>0.962228</td>\n",
       "      <td>0.006648</td>\n",
       "      <td>0.003855</td>\n",
       "      <td>0.004557</td>\n",
       "      <td>0.102165</td>\n",
       "      <td>0.026862</td>\n",
       "      <td>0.305777</td>\n",
       "      <td>1.221978</td>\n",
       "      <td>...</td>\n",
       "      <td>0.005183</td>\n",
       "      <td>0.005155</td>\n",
       "      <td>0.003549</td>\n",
       "      <td>0.005927</td>\n",
       "      <td>0.005689</td>\n",
       "      <td>0.004942</td>\n",
       "      <td>0.005933</td>\n",
       "      <td>0.005831</td>\n",
       "      <td>0.004895</td>\n",
       "      <td>0.005178</td>\n",
       "    </tr>\n",
       "    <tr>\n",
       "      <th>e79c9f46a56e0f04d256a9601a96da58c3944cc21fe1e554034effb9517c4399</th>\n",
       "      <td>0.844211</td>\n",
       "      <td>0.032196</td>\n",
       "      <td>1.006546</td>\n",
       "      <td>0.007019</td>\n",
       "      <td>0.007112</td>\n",
       "      <td>0.051921</td>\n",
       "      <td>0.254514</td>\n",
       "      <td>0.111199</td>\n",
       "      <td>0.844991</td>\n",
       "      <td>0.167898</td>\n",
       "      <td>...</td>\n",
       "      <td>0.006578</td>\n",
       "      <td>0.005270</td>\n",
       "      <td>0.004741</td>\n",
       "      <td>0.006253</td>\n",
       "      <td>0.004304</td>\n",
       "      <td>0.005079</td>\n",
       "      <td>0.005264</td>\n",
       "      <td>0.005230</td>\n",
       "      <td>0.003982</td>\n",
       "      <td>0.006155</td>\n",
       "    </tr>\n",
       "    <tr>\n",
       "      <th>3a7380a724a21a1e2b5ee8da2e2dcc5c94ef6c7f0eced697bc67c6986334b9f1</th>\n",
       "      <td>0.240001</td>\n",
       "      <td>0.321626</td>\n",
       "      <td>0.034030</td>\n",
       "      <td>0.292809</td>\n",
       "      <td>0.102385</td>\n",
       "      <td>0.098797</td>\n",
       "      <td>0.024338</td>\n",
       "      <td>0.008385</td>\n",
       "      <td>0.020078</td>\n",
       "      <td>0.022904</td>\n",
       "      <td>...</td>\n",
       "      <td>0.005210</td>\n",
       "      <td>0.006709</td>\n",
       "      <td>0.005443</td>\n",
       "      <td>0.005399</td>\n",
       "      <td>0.004460</td>\n",
       "      <td>0.005625</td>\n",
       "      <td>0.004583</td>\n",
       "      <td>0.003973</td>\n",
       "      <td>0.004137</td>\n",
       "      <td>0.005392</td>\n",
       "    </tr>\n",
       "  </tbody>\n",
       "</table>\n",
       "<p>5 rows × 93 columns</p>\n",
       "</div>"
      ],
      "text/plain": [
       "                                                         P_2       B_1  \\\n",
       "customer_ID                                                              \n",
       "9a3006b4c7305e4068ac1e887c7825cffc92ef56a4825e6...  0.744920  0.042318   \n",
       "0f02b103ab7c2b3726cac1c1a29014cc94105cac34bc828...  0.794052  0.016332   \n",
       "e75467ccaf4b04e09e7aa701c4a9866a3d6605e5a95e2d7...  0.864360  0.029108   \n",
       "e79c9f46a56e0f04d256a9601a96da58c3944cc21fe1e55...  0.844211  0.032196   \n",
       "3a7380a724a21a1e2b5ee8da2e2dcc5c94ef6c7f0eced69...  0.240001  0.321626   \n",
       "\n",
       "                                                         B_2       B_3  \\\n",
       "customer_ID                                                              \n",
       "9a3006b4c7305e4068ac1e887c7825cffc92ef56a4825e6...  0.507038  0.004948   \n",
       "0f02b103ab7c2b3726cac1c1a29014cc94105cac34bc828...  0.830824  0.003018   \n",
       "e75467ccaf4b04e09e7aa701c4a9866a3d6605e5a95e2d7...  0.962228  0.006648   \n",
       "e79c9f46a56e0f04d256a9601a96da58c3944cc21fe1e55...  1.006546  0.007019   \n",
       "3a7380a724a21a1e2b5ee8da2e2dcc5c94ef6c7f0eced69...  0.034030  0.292809   \n",
       "\n",
       "                                                        D_44       B_4  \\\n",
       "customer_ID                                                              \n",
       "9a3006b4c7305e4068ac1e887c7825cffc92ef56a4825e6...  0.005735  0.035569   \n",
       "0f02b103ab7c2b3726cac1c1a29014cc94105cac34bc828...  0.004547  0.063299   \n",
       "e75467ccaf4b04e09e7aa701c4a9866a3d6605e5a95e2d7...  0.003855  0.004557   \n",
       "e79c9f46a56e0f04d256a9601a96da58c3944cc21fe1e55...  0.007112  0.051921   \n",
       "3a7380a724a21a1e2b5ee8da2e2dcc5c94ef6c7f0eced69...  0.102385  0.098797   \n",
       "\n",
       "                                                        D_45       B_5  \\\n",
       "customer_ID                                                              \n",
       "9a3006b4c7305e4068ac1e887c7825cffc92ef56a4825e6...  0.008546  0.060970   \n",
       "0f02b103ab7c2b3726cac1c1a29014cc94105cac34bc828...  0.175595  0.025863   \n",
       "e75467ccaf4b04e09e7aa701c4a9866a3d6605e5a95e2d7...  0.102165  0.026862   \n",
       "e79c9f46a56e0f04d256a9601a96da58c3944cc21fe1e55...  0.254514  0.111199   \n",
       "3a7380a724a21a1e2b5ee8da2e2dcc5c94ef6c7f0eced69...  0.024338  0.008385   \n",
       "\n",
       "                                                        D_47       B_6  ...  \\\n",
       "customer_ID                                                             ...   \n",
       "9a3006b4c7305e4068ac1e887c7825cffc92ef56a4825e6...  0.319516  0.465602  ...   \n",
       "0f02b103ab7c2b3726cac1c1a29014cc94105cac34bc828...  0.772988  0.198053  ...   \n",
       "e75467ccaf4b04e09e7aa701c4a9866a3d6605e5a95e2d7...  0.305777  1.221978  ...   \n",
       "e79c9f46a56e0f04d256a9601a96da58c3944cc21fe1e55...  0.844991  0.167898  ...   \n",
       "3a7380a724a21a1e2b5ee8da2e2dcc5c94ef6c7f0eced69...  0.020078  0.022904  ...   \n",
       "\n",
       "                                                       D_127     D_128  \\\n",
       "customer_ID                                                              \n",
       "9a3006b4c7305e4068ac1e887c7825cffc92ef56a4825e6...  0.004537  1.005193   \n",
       "0f02b103ab7c2b3726cac1c1a29014cc94105cac34bc828...  0.004965  0.005285   \n",
       "e75467ccaf4b04e09e7aa701c4a9866a3d6605e5a95e2d7...  0.005183  0.005155   \n",
       "e79c9f46a56e0f04d256a9601a96da58c3944cc21fe1e55...  0.006578  0.005270   \n",
       "3a7380a724a21a1e2b5ee8da2e2dcc5c94ef6c7f0eced69...  0.005210  0.006709   \n",
       "\n",
       "                                                       D_129      B_41  \\\n",
       "customer_ID                                                              \n",
       "9a3006b4c7305e4068ac1e887c7825cffc92ef56a4825e6...  0.008477  0.004163   \n",
       "0f02b103ab7c2b3726cac1c1a29014cc94105cac34bc828...  0.004759  0.005775   \n",
       "e75467ccaf4b04e09e7aa701c4a9866a3d6605e5a95e2d7...  0.003549  0.005927   \n",
       "e79c9f46a56e0f04d256a9601a96da58c3944cc21fe1e55...  0.004741  0.006253   \n",
       "3a7380a724a21a1e2b5ee8da2e2dcc5c94ef6c7f0eced69...  0.005443  0.005399   \n",
       "\n",
       "                                                       D_130     D_131  \\\n",
       "customer_ID                                                              \n",
       "9a3006b4c7305e4068ac1e887c7825cffc92ef56a4825e6...  0.002999  0.003436   \n",
       "0f02b103ab7c2b3726cac1c1a29014cc94105cac34bc828...  0.004848  0.004355   \n",
       "e75467ccaf4b04e09e7aa701c4a9866a3d6605e5a95e2d7...  0.005689  0.004942   \n",
       "e79c9f46a56e0f04d256a9601a96da58c3944cc21fe1e55...  0.004304  0.005079   \n",
       "3a7380a724a21a1e2b5ee8da2e2dcc5c94ef6c7f0eced69...  0.004460  0.005625   \n",
       "\n",
       "                                                       D_139     D_141  \\\n",
       "customer_ID                                                              \n",
       "9a3006b4c7305e4068ac1e887c7825cffc92ef56a4825e6...  0.006277  0.007374   \n",
       "0f02b103ab7c2b3726cac1c1a29014cc94105cac34bc828...  0.005328  0.003876   \n",
       "e75467ccaf4b04e09e7aa701c4a9866a3d6605e5a95e2d7...  0.005933  0.005831   \n",
       "e79c9f46a56e0f04d256a9601a96da58c3944cc21fe1e55...  0.005264  0.005230   \n",
       "3a7380a724a21a1e2b5ee8da2e2dcc5c94ef6c7f0eced69...  0.004583  0.003973   \n",
       "\n",
       "                                                       D_143     D_145  \n",
       "customer_ID                                                             \n",
       "9a3006b4c7305e4068ac1e887c7825cffc92ef56a4825e6...  0.006532  0.006302  \n",
       "0f02b103ab7c2b3726cac1c1a29014cc94105cac34bc828...  0.006597  0.004806  \n",
       "e75467ccaf4b04e09e7aa701c4a9866a3d6605e5a95e2d7...  0.004895  0.005178  \n",
       "e79c9f46a56e0f04d256a9601a96da58c3944cc21fe1e55...  0.003982  0.006155  \n",
       "3a7380a724a21a1e2b5ee8da2e2dcc5c94ef6c7f0eced69...  0.004137  0.005392  \n",
       "\n",
       "[5 rows x 93 columns]"
      ]
     },
     "execution_count": 11,
     "metadata": {},
     "output_type": "execute_result"
    }
   ],
   "source": [
    "#creating the mean features\n",
    "columns_to_keep_mean, x_train_mean, x_test_mean, y_train_mean, y_test_mean \\\n",
    "= preprocessing_and_split_data(train_data, train_labels, indexes_for_batching, 'mean')\n",
    "print(\"The mean features shape:\", x_train_mean.shape)\n",
    "print(\"The chosen columns:\", x_train_mean.columns)\n",
    "x_train_mean.head()"
   ]
  },
  {
   "cell_type": "markdown",
   "id": "bf026969",
   "metadata": {
    "papermill": {
     "duration": 0.022455,
     "end_time": "2022-09-28T09:12:32.802707",
     "exception": false,
     "start_time": "2022-09-28T09:12:32.780252",
     "status": "completed"
    },
    "tags": []
   },
   "source": [
    "# 5. Training"
   ]
  },
  {
   "cell_type": "code",
   "execution_count": 12,
   "id": "fa4a8efa",
   "metadata": {
    "execution": {
     "iopub.execute_input": "2022-09-28T09:12:32.855447Z",
     "iopub.status.busy": "2022-09-28T09:12:32.854385Z",
     "iopub.status.idle": "2022-09-28T09:12:32.865713Z",
     "shell.execute_reply": "2022-09-28T09:12:32.864419Z"
    },
    "papermill": {
     "duration": 0.038733,
     "end_time": "2022-09-28T09:12:32.868521",
     "exception": false,
     "start_time": "2022-09-28T09:12:32.829788",
     "status": "completed"
    },
    "tags": []
   },
   "outputs": [],
   "source": [
    "#set up lgbm model, train on train part in training data and test vs test part in training data!\n",
    "def train_and_eval_model(model, model_name, x_train, x_test, y_train, y_test, criteria, is_silent=False):\n",
    "    start = time.time()\n",
    "    if (is_silent):\n",
    "        model.fit(x_train, y_train, silent=is_silent) #for canceling the training prints\n",
    "    else:\n",
    "        model.fit(x_train, y_train)\n",
    "    end = time.time()\n",
    "    print(\"The training took\", '{:.2f}'.format(end - start) ,\"seconds\")\n",
    "    \n",
    "    y_predict_train=model.predict(x_train)\n",
    "    y_predict_test=model.predict(x_test)\n",
    "    \n",
    "    print('Results with the {} features:'.format(criteria))\n",
    "    print('Classifier Accuracy on the train set: {:.3f}'.format(accuracy_score(y_train, y_predict_train)))\n",
    "    print('Classifier Accuracy on the test set: {:.3f}'.format(accuracy_score(y_test, y_predict_test)))\n",
    "    print('Classifier Recall on the test set: {:.3f}'.format(recall_score(y_test, y_predict_test)))\n",
    "    print('Classifier Precision on the test set: {:.3f}'.format(precision_score(y_test, y_predict_test)))\n",
    "    \n",
    "    # Create a DataFrame from our training statistics\n",
    "    training_stats = []\n",
    "    training_stats.append(\n",
    "            {\n",
    "                'Model Name' : model_name + \"_\" + criteria,\n",
    "                'Train. Accuracy.': accuracy_score(y_train, y_predict_train),\n",
    "                'Test. Accuracy.': accuracy_score(y_test, y_predict_test),\n",
    "                'Test. Recall.': recall_score(y_test, y_predict_test),\n",
    "                'Test. Precision.': precision_score(y_test, y_predict_test),\n",
    "                'Training Time [s]': end - start,\n",
    "            }\n",
    "        )\n",
    "    pd.set_option('precision', 3)\n",
    "    df_stats = pd.DataFrame(data=training_stats)\n",
    "    df_stats = df_stats.set_index('Model Name')\n",
    "    return model, df_stats"
   ]
  },
  {
   "cell_type": "code",
   "execution_count": 13,
   "id": "d77deb3a",
   "metadata": {
    "execution": {
     "iopub.execute_input": "2022-09-28T09:12:32.916411Z",
     "iopub.status.busy": "2022-09-28T09:12:32.915192Z",
     "iopub.status.idle": "2022-09-28T09:40:58.645395Z",
     "shell.execute_reply": "2022-09-28T09:40:58.642806Z"
    },
    "papermill": {
     "duration": 1705.757659,
     "end_time": "2022-09-28T09:40:58.648853",
     "exception": false,
     "start_time": "2022-09-28T09:12:32.891194",
     "status": "completed"
    },
    "tags": []
   },
   "outputs": [
    {
     "name": "stdout",
     "output_type": "stream",
     "text": [
      "Using the catboost model with the median features\n",
      "The training took 157.93 seconds\n",
      "Results with the median features:\n",
      "Classifier Accuracy on the train set: 0.905\n",
      "Classifier Accuracy on the test set: 0.879\n",
      "Classifier Recall on the test set: 0.770\n",
      "Classifier Precision on the test set: 0.763\n",
      "\n",
      "Using the catboost model with the mean features\n",
      "The training took 156.72 seconds\n",
      "Results with the mean features:\n",
      "Classifier Accuracy on the train set: 0.914\n",
      "Classifier Accuracy on the test set: 0.889\n",
      "Classifier Recall on the test set: 0.783\n",
      "Classifier Precision on the test set: 0.785\n",
      "\n",
      "Using the lightgbm model with the median features\n",
      "The training took 20.43 seconds\n",
      "Results with the median features:\n",
      "Classifier Accuracy on the train set: 0.882\n",
      "Classifier Accuracy on the test set: 0.876\n",
      "Classifier Recall on the test set: 0.769\n",
      "Classifier Precision on the test set: 0.754\n",
      "\n",
      "Using the lightgbm model with the mean features\n",
      "The training took 23.22 seconds\n",
      "Results with the mean features:\n",
      "Classifier Accuracy on the train set: 0.893\n",
      "Classifier Accuracy on the test set: 0.884\n",
      "Classifier Recall on the test set: 0.780\n",
      "Classifier Precision on the test set: 0.771\n",
      "\n",
      "Using the xgboost model with the median features\n",
      "The training took 670.98 seconds\n",
      "Results with the median features:\n",
      "Classifier Accuracy on the train set: 0.899\n",
      "Classifier Accuracy on the test set: 0.877\n",
      "Classifier Recall on the test set: 0.768\n",
      "Classifier Precision on the test set: 0.758\n",
      "\n",
      "Using the xgboost model with the mean features\n",
      "The training took 669.63 seconds\n",
      "Results with the mean features:\n",
      "Classifier Accuracy on the train set: 0.909\n",
      "Classifier Accuracy on the test set: 0.886\n",
      "Classifier Recall on the test set: 0.781\n",
      "Classifier Precision on the test set: 0.778\n",
      "\n"
     ]
    }
   ],
   "source": [
    "#training and evaluating lightgbm, xgboost and catboost, with median and mean features\n",
    "criterias = ['median', 'mean']\n",
    "models_types = [['catboost', True], ['lightgbm', False], ['xgboost', False]]\n",
    "models_dict = {'lightgbm':LGBMClassifier, 'xgboost':XGBClassifier, 'catboost':CatBoostClassifier}\n",
    "trained_models = []\n",
    "results = pd.DataFrame()\n",
    "# results_data_type = pd.concat([models_schedulers[0].df_stats, models_schedulers[1].df_stats, models_schedulers[2].df_stats, models_schedulers[3].df_stats], ignore_index=True)\n",
    "\n",
    "\n",
    "for model_type_elem in models_types:\n",
    "    for criteria in criterias:\n",
    "        model_type = model_type_elem[0]\n",
    "        is_silent = model_type_elem[1]\n",
    "        print('Using the {} model with the {} features'.format(model_type, criteria))\n",
    "        model = models_dict[model_type]()\n",
    "        if (criteria == 'median'):\n",
    "            model, df_stats = train_and_eval_model(model, model_type, x_train_median, x_test_median, y_train_median, y_test_median, criteria, is_silent)\n",
    "            trained_models.append(model)\n",
    "            results = pd.concat([results, df_stats])\n",
    "        if (criteria == 'mean'):\n",
    "            model, df_stats = train_and_eval_model(model, model_type, x_train_mean, x_test_mean, y_train_mean, y_test_mean, criteria, is_silent)\n",
    "            trained_models.append(model)\n",
    "            results = pd.concat([results, df_stats])\n",
    "        print()"
   ]
  },
  {
   "cell_type": "code",
   "execution_count": 14,
   "id": "02baf7de",
   "metadata": {
    "execution": {
     "iopub.execute_input": "2022-09-28T09:40:58.701914Z",
     "iopub.status.busy": "2022-09-28T09:40:58.701139Z",
     "iopub.status.idle": "2022-09-28T09:40:58.717424Z",
     "shell.execute_reply": "2022-09-28T09:40:58.716285Z"
    },
    "papermill": {
     "duration": 0.045983,
     "end_time": "2022-09-28T09:40:58.719809",
     "exception": false,
     "start_time": "2022-09-28T09:40:58.673826",
     "status": "completed"
    },
    "tags": []
   },
   "outputs": [
    {
     "data": {
      "text/html": [
       "<div>\n",
       "<style scoped>\n",
       "    .dataframe tbody tr th:only-of-type {\n",
       "        vertical-align: middle;\n",
       "    }\n",
       "\n",
       "    .dataframe tbody tr th {\n",
       "        vertical-align: top;\n",
       "    }\n",
       "\n",
       "    .dataframe thead th {\n",
       "        text-align: right;\n",
       "    }\n",
       "</style>\n",
       "<table border=\"1\" class=\"dataframe\">\n",
       "  <thead>\n",
       "    <tr style=\"text-align: right;\">\n",
       "      <th></th>\n",
       "      <th>Train. Accuracy.</th>\n",
       "      <th>Test. Accuracy.</th>\n",
       "      <th>Test. Recall.</th>\n",
       "      <th>Test. Precision.</th>\n",
       "      <th>Training Time [s]</th>\n",
       "    </tr>\n",
       "    <tr>\n",
       "      <th>Model Name</th>\n",
       "      <th></th>\n",
       "      <th></th>\n",
       "      <th></th>\n",
       "      <th></th>\n",
       "      <th></th>\n",
       "    </tr>\n",
       "  </thead>\n",
       "  <tbody>\n",
       "    <tr>\n",
       "      <th>catboost_median</th>\n",
       "      <td>0.905</td>\n",
       "      <td>0.879</td>\n",
       "      <td>0.770</td>\n",
       "      <td>0.763</td>\n",
       "      <td>157.928</td>\n",
       "    </tr>\n",
       "    <tr>\n",
       "      <th>catboost_mean</th>\n",
       "      <td>0.914</td>\n",
       "      <td>0.889</td>\n",
       "      <td>0.783</td>\n",
       "      <td>0.785</td>\n",
       "      <td>156.720</td>\n",
       "    </tr>\n",
       "    <tr>\n",
       "      <th>lightgbm_median</th>\n",
       "      <td>0.882</td>\n",
       "      <td>0.876</td>\n",
       "      <td>0.769</td>\n",
       "      <td>0.754</td>\n",
       "      <td>20.433</td>\n",
       "    </tr>\n",
       "    <tr>\n",
       "      <th>lightgbm_mean</th>\n",
       "      <td>0.893</td>\n",
       "      <td>0.884</td>\n",
       "      <td>0.780</td>\n",
       "      <td>0.771</td>\n",
       "      <td>23.218</td>\n",
       "    </tr>\n",
       "    <tr>\n",
       "      <th>xgboost_median</th>\n",
       "      <td>0.899</td>\n",
       "      <td>0.877</td>\n",
       "      <td>0.768</td>\n",
       "      <td>0.758</td>\n",
       "      <td>670.982</td>\n",
       "    </tr>\n",
       "    <tr>\n",
       "      <th>xgboost_mean</th>\n",
       "      <td>0.909</td>\n",
       "      <td>0.886</td>\n",
       "      <td>0.781</td>\n",
       "      <td>0.778</td>\n",
       "      <td>669.630</td>\n",
       "    </tr>\n",
       "  </tbody>\n",
       "</table>\n",
       "</div>"
      ],
      "text/plain": [
       "                 Train. Accuracy.  Test. Accuracy.  Test. Recall.  \\\n",
       "Model Name                                                          \n",
       "catboost_median             0.905            0.879          0.770   \n",
       "catboost_mean               0.914            0.889          0.783   \n",
       "lightgbm_median             0.882            0.876          0.769   \n",
       "lightgbm_mean               0.893            0.884          0.780   \n",
       "xgboost_median              0.899            0.877          0.768   \n",
       "xgboost_mean                0.909            0.886          0.781   \n",
       "\n",
       "                 Test. Precision.  Training Time [s]  \n",
       "Model Name                                            \n",
       "catboost_median             0.763            157.928  \n",
       "catboost_mean               0.785            156.720  \n",
       "lightgbm_median             0.754             20.433  \n",
       "lightgbm_mean               0.771             23.218  \n",
       "xgboost_median              0.758            670.982  \n",
       "xgboost_mean                0.778            669.630  "
      ]
     },
     "execution_count": 14,
     "metadata": {},
     "output_type": "execute_result"
    }
   ],
   "source": [
    "#Lets look at the results\n",
    "results"
   ]
  },
  {
   "cell_type": "code",
   "execution_count": 15,
   "id": "77eb12ec",
   "metadata": {
    "execution": {
     "iopub.execute_input": "2022-09-28T09:40:58.770412Z",
     "iopub.status.busy": "2022-09-28T09:40:58.769194Z",
     "iopub.status.idle": "2022-09-28T09:40:59.367127Z",
     "shell.execute_reply": "2022-09-28T09:40:59.366257Z"
    },
    "papermill": {
     "duration": 0.625549,
     "end_time": "2022-09-28T09:40:59.369206",
     "exception": false,
     "start_time": "2022-09-28T09:40:58.743657",
     "status": "completed"
    },
    "tags": []
   },
   "outputs": [
    {
     "name": "stdout",
     "output_type": "stream",
     "text": [
      "The AUC of the catboost model is 0.854\n",
      "The AUC of the lightgbm model is 0.850\n",
      "The AUC of the xgboost model is 0.852\n"
     ]
    },
    {
     "data": {
      "image/png": "[encoded data removed]",
      "text/plain": [
       "<Figure size 432x288 with 1 Axes>"
      ]
     },
     "metadata": {
      "needs_background": "light"
     },
     "output_type": "display_data"
    }
   ],
   "source": [
    "#plotting the ROC curve of our xgboost classifier with mean features ROC curve, \n",
    "#ROC is a graphical plot that illustrates the diagnostic ability of a binary classifier system as its discrimination threshold is varied.\n",
    "cat_model = trained_models[1]\n",
    "light_model = trained_models[3]\n",
    "xgb_model = trained_models[5]\n",
    "y_predict_cat = cat_model.predict(x_test_mean)\n",
    "y_predict_light = light_model.predict(x_test_mean)\n",
    "y_predict_xgb = xgb_model.predict(x_test_mean)\n",
    "\n",
    "x = np.linspace(0, 1, 5)\n",
    "cat_fpr, cat_tpr, _ = roc_curve(y_test_mean, y_predict_cat)\n",
    "light_fpr, light_tpr, _ = roc_curve(y_test_mean, y_predict_light)\n",
    "xgb_fpr, xgb_tpr, _ = roc_curve(y_test_mean, y_predict_xgb)\n",
    "\n",
    "print('The AUC of the catboost model is {:.3f}'.format(auc(cat_fpr, cat_tpr)))\n",
    "print('The AUC of the lightgbm model is {:.3f}'.format(auc(light_fpr, light_tpr)))\n",
    "print('The AUC of the xgboost model is {:.3f}'.format(auc(xgb_fpr, xgb_tpr)))\n",
    "\n",
    "pyplot.plot(cat_fpr, cat_tpr, marker='.', label='catboost')\n",
    "pyplot.plot(light_fpr, light_tpr, marker='.', label='lightgbm')\n",
    "pyplot.plot(xgb_fpr, xgb_tpr, marker='.', label='xgboost')\n",
    "pyplot.plot(x, x, linestyle='--', label='No Skill')\n",
    "pyplot.xlabel('False Positive Rate')\n",
    "pyplot.ylabel('True Positive Rate')\n",
    "pyplot.title('ROC curve')\n",
    "pyplot.legend()\n",
    "pyplot.show()"
   ]
  },
  {
   "cell_type": "code",
   "execution_count": 16,
   "id": "19e08b86",
   "metadata": {
    "execution": {
     "iopub.execute_input": "2022-09-28T09:40:59.420902Z",
     "iopub.status.busy": "2022-09-28T09:40:59.420209Z",
     "iopub.status.idle": "2022-09-28T09:40:59.430301Z",
     "shell.execute_reply": "2022-09-28T09:40:59.429391Z"
    },
    "papermill": {
     "duration": 0.039196,
     "end_time": "2022-09-28T09:40:59.432947",
     "exception": false,
     "start_time": "2022-09-28T09:40:59.393751",
     "status": "completed"
    },
    "tags": []
   },
   "outputs": [],
   "source": [
    "# Showing Confusion Matrix\n",
    "def plot_cm(y_true, y_pred, title, figsize=(5,5)):\n",
    "    cm = confusion_matrix(y_true, y_pred, labels=np.unique(y_true))\n",
    "    cm_sum = np.sum(cm, axis=1, keepdims=True)\n",
    "    cm_perc = cm / cm_sum.astype(float) * 100\n",
    "    annot = np.empty_like(cm).astype(str)\n",
    "    nrows, ncols = cm.shape\n",
    "    for i in range(nrows):\n",
    "        for j in range(ncols):\n",
    "            c = cm[i, j]\n",
    "            p = cm_perc[i, j]\n",
    "            if i == j:\n",
    "                s = cm_sum[i]\n",
    "                annot[i, j] = '%.1f%%\\n%d/%d' % (p, c, s)\n",
    "            elif c == 0:\n",
    "                annot[i, j] = ''\n",
    "            else:\n",
    "                annot[i, j] = '%.1f%%\\n%d' % (p, c)\n",
    "    cm = pd.DataFrame(cm, index=np.unique(y_true), columns=np.unique(y_true))\n",
    "    cm.index.name = 'Actual'\n",
    "    cm.columns.name = 'Predicted'\n",
    "    fig, ax = pyplot.subplots(figsize=figsize)\n",
    "    pyplot.title(title)\n",
    "    sns.heatmap(cm, cmap= \"YlGnBu\", annot=annot, fmt='', ax=ax)"
   ]
  },
  {
   "cell_type": "code",
   "execution_count": 17,
   "id": "4ad5c91c",
   "metadata": {
    "execution": {
     "iopub.execute_input": "2022-09-28T09:40:59.484135Z",
     "iopub.status.busy": "2022-09-28T09:40:59.483470Z",
     "iopub.status.idle": "2022-09-28T09:41:00.299864Z",
     "shell.execute_reply": "2022-09-28T09:41:00.299015Z"
    },
    "papermill": {
     "duration": 0.845015,
     "end_time": "2022-09-28T09:41:00.302188",
     "exception": false,
     "start_time": "2022-09-28T09:40:59.457173",
     "status": "completed"
    },
    "tags": []
   },
   "outputs": [
    {
     "data": {
      "image/png": "[encoded data removed]",
      "text/plain": [
       "<Figure size 504x504 with 2 Axes>"
      ]
     },
     "metadata": {
      "needs_background": "light"
     },
     "output_type": "display_data"
    },
    {
     "data": {
      "image/png": "[encoded data removed]",
      "text/plain": [
       "<Figure size 504x504 with 2 Axes>"
      ]
     },
     "metadata": {
      "needs_background": "light"
     },
     "output_type": "display_data"
    },
    {
     "data": {
      "image/png": "[encoded data removed]",
      "text/plain": [
       "<Figure size 504x504 with 2 Axes>"
      ]
     },
     "metadata": {
      "needs_background": "light"
     },
     "output_type": "display_data"
    }
   ],
   "source": [
    "plot_cm(y_predict_cat, y_test_mean, 'Confusion Matrix for Catboost, mean features', figsize=(7,7))\n",
    "plot_cm(y_predict_light, y_test_mean, 'Confusion Matrix for Lightgbm, mean features', figsize=(7,7))\n",
    "plot_cm(y_predict_xgb, y_test_mean, 'Confusion Matrix for Xgboost, mean features', figsize=(7,7))"
   ]
  },
  {
   "cell_type": "markdown",
   "id": "c7b386e9",
   "metadata": {
    "papermill": {
     "duration": 0.025414,
     "end_time": "2022-09-28T09:41:00.353798",
     "exception": false,
     "start_time": "2022-09-28T09:41:00.328384",
     "status": "completed"
    },
    "tags": []
   },
   "source": [
    "# 6. Explainability with SHAP"
   ]
  },
  {
   "cell_type": "markdown",
   "id": "d2f552e1",
   "metadata": {
    "papermill": {
     "duration": 0.025607,
     "end_time": "2022-09-28T09:41:00.405157",
     "exception": false,
     "start_time": "2022-09-28T09:41:00.379550",
     "status": "completed"
    },
    "tags": []
   },
   "source": [
    "<font size=\"3\">We will use SHAP for our Xgboost mean model, to understand better the features effect on his output.</font>"
   ]
  },
  {
   "cell_type": "code",
   "execution_count": 18,
   "id": "25e6b3d0",
   "metadata": {
    "execution": {
     "iopub.execute_input": "2022-09-28T09:41:00.458678Z",
     "iopub.status.busy": "2022-09-28T09:41:00.458259Z",
     "iopub.status.idle": "2022-09-28T09:41:00.495359Z",
     "shell.execute_reply": "2022-09-28T09:41:00.494396Z"
    },
    "papermill": {
     "duration": 0.067217,
     "end_time": "2022-09-28T09:41:00.497960",
     "exception": false,
     "start_time": "2022-09-28T09:41:00.430743",
     "status": "completed"
    },
    "tags": []
   },
   "outputs": [],
   "source": [
    "#Using a random sample of the dataframe for better time computation\n",
    "X_sampled = x_train_mean.sample(3_000, random_state=10)"
   ]
  },
  {
   "cell_type": "code",
   "execution_count": 19,
   "id": "4c3c890a",
   "metadata": {
    "execution": {
     "iopub.execute_input": "2022-09-28T09:41:00.551820Z",
     "iopub.status.busy": "2022-09-28T09:41:00.551369Z",
     "iopub.status.idle": "2022-09-28T09:41:02.899223Z",
     "shell.execute_reply": "2022-09-28T09:41:02.898257Z"
    },
    "papermill": {
     "duration": 2.378598,
     "end_time": "2022-09-28T09:41:02.902264",
     "exception": false,
     "start_time": "2022-09-28T09:41:00.523666",
     "status": "completed"
    },
    "tags": []
   },
   "outputs": [
    {
     "name": "stderr",
     "output_type": "stream",
     "text": [
      "ntree_limit is deprecated, use `iteration_range` or model slicing instead.\n"
     ]
    }
   ],
   "source": [
    "#explain the model's predictions using SHAP values\n",
    "#(same syntax works for LightGBM, CatBoost, and scikit-learn models)\n",
    "explainer = shap.TreeExplainer(trained_models[5])\n",
    "shap_values = explainer.shap_values(X_sampled)"
   ]
  },
  {
   "cell_type": "code",
   "execution_count": 20,
   "id": "d09154df",
   "metadata": {
    "execution": {
     "iopub.execute_input": "2022-09-28T09:41:02.962351Z",
     "iopub.status.busy": "2022-09-28T09:41:02.961188Z",
     "iopub.status.idle": "2022-09-28T09:41:03.403274Z",
     "shell.execute_reply": "2022-09-28T09:41:03.402098Z"
    },
    "papermill": {
     "duration": 0.475285,
     "end_time": "2022-09-28T09:41:03.405912",
     "exception": false,
     "start_time": "2022-09-28T09:41:02.930627",
     "status": "completed"
    },
    "tags": []
   },
   "outputs": [
    {
     "data": {
      "image/png": "[encoded data removed]",
      "text/plain": [
       "<Figure size 576x684 with 1 Axes>"
      ]
     },
     "metadata": {
      "needs_background": "light"
     },
     "output_type": "display_data"
    }
   ],
   "source": [
    "shap.summary_plot(shap_values, X_sampled, plot_type=\"bar\")"
   ]
  },
  {
   "cell_type": "code",
   "execution_count": 22,
   "id": "7f7c78d2",
   "metadata": {
    "execution": {
     "iopub.execute_input": "2022-09-28T09:41:03.649737Z",
     "iopub.status.busy": "2022-09-28T09:41:03.648947Z",
     "iopub.status.idle": "2022-09-28T09:41:05.552855Z",
     "shell.execute_reply": "2022-09-28T09:41:05.551634Z"
    },
    "papermill": {
     "duration": 1.941768,
     "end_time": "2022-09-28T09:41:05.556206",
     "exception": false,
     "start_time": "2022-09-28T09:41:03.614438",
     "status": "completed"
    },
    "tags": []
   },
   "outputs": [
    {
     "data": {
      "image/png": "[encoded data removed]",
      "text/plain": [
       "<Figure size 576x684 with 2 Axes>"
      ]
     },
     "metadata": {
      "needs_background": "light"
     },
     "output_type": "display_data"
    }
   ],
   "source": [
    "# summarize the effects of all the features\n",
    "shap.summary_plot(shap_values, X_sampled)"
   ]
  },
  {
   "cell_type": "markdown",
   "id": "256f5755",
   "metadata": {
    "papermill": {
     "duration": 0.034589,
     "end_time": "2022-09-28T09:41:05.627533",
     "exception": false,
     "start_time": "2022-09-28T09:41:05.592944",
     "status": "completed"
    },
    "tags": []
   },
   "source": [
    "# Submission"
   ]
  },
  {
   "cell_type": "code",
   "execution_count": 23,
   "id": "360eff69",
   "metadata": {
    "execution": {
     "iopub.execute_input": "2022-09-28T09:41:05.699494Z",
     "iopub.status.busy": "2022-09-28T09:41:05.699027Z",
     "iopub.status.idle": "2022-09-28T09:41:05.965668Z",
     "shell.execute_reply": "2022-09-28T09:41:05.964031Z"
    },
    "papermill": {
     "duration": 0.306104,
     "end_time": "2022-09-28T09:41:05.968207",
     "exception": false,
     "start_time": "2022-09-28T09:41:05.662103",
     "status": "completed"
    },
    "tags": []
   },
   "outputs": [
    {
     "name": "stdout",
     "output_type": "stream",
     "text": [
      "The columns we use for our model:  ['customer_ID', 'P_2', 'B_1', 'B_2', 'B_3', 'D_44', 'B_4', 'D_45', 'B_5', 'D_47', 'B_6', 'B_7', 'B_8', 'D_51', 'B_9', 'R_3', 'B_10', 'S_5', 'B_11', 'S_6', 'B_12', 'S_8', 'D_55', 'B_13', 'D_58', 'B_14', 'D_59', 'D_60', 'B_15', 'D_65', 'B_16', 'B_18', 'B_19', 'B_20', 'R_6', 'S_13', 'B_21', 'D_69', 'B_22', 'D_70', 'D_71', 'D_72', 'B_23', 'P_4', 'D_74', 'D_75', 'B_24', 'R_7', 'B_25', 'B_26', 'D_78', 'D_79', 'S_16', 'D_80', 'R_10', 'D_81', 'B_28', 'D_83', 'R_14', 'D_84', 'R_20', 'B_33', 'D_92', 'S_22', 'S_23', 'S_24', 'S_26', 'D_102', 'D_103', 'D_104', 'D_107', 'B_37', 'R_27', 'D_112', 'B_40', 'D_113', 'D_115', 'D_118', 'D_119', 'D_121', 'D_122', 'D_123', 'D_124', 'D_125', 'D_127', 'D_128', 'D_129', 'B_41', 'D_130', 'D_131', 'D_139', 'D_141', 'D_143', 'D_145']\n"
     ]
    }
   ],
   "source": [
    "columns_to_load = list(x_train_mean.columns)\n",
    "columns_to_load = ['customer_ID'] + columns_to_load\n",
    "print(\"The columns we use for our model: \", columns_to_load)\n",
    "del(train_data)\n",
    "del(train_labels)\n",
    "del(x_train_median, x_test_median, y_train_median, y_test_median)\n",
    "del(x_train_mean, x_test_mean, y_train_mean, y_test_mean)\n",
    "del(y_predict_cat, y_predict_light, y_predict_xgb)"
   ]
  },
  {
   "cell_type": "code",
   "execution_count": 24,
   "id": "286f2858",
   "metadata": {
    "execution": {
     "iopub.execute_input": "2022-09-28T09:41:06.041155Z",
     "iopub.status.busy": "2022-09-28T09:41:06.040323Z",
     "iopub.status.idle": "2022-09-28T09:41:06.048532Z",
     "shell.execute_reply": "2022-09-28T09:41:06.047391Z"
    },
    "papermill": {
     "duration": 0.047071,
     "end_time": "2022-09-28T09:41:06.050879",
     "exception": false,
     "start_time": "2022-09-28T09:41:06.003808",
     "status": "completed"
    },
    "tags": []
   },
   "outputs": [],
   "source": [
    "#creates a prediction for submission, from catboost, lightgbm and xgboost models\n",
    "def create_submission(data, trained_models):\n",
    "    y_test_predict = trained_models[1].predict_proba(data)\n",
    "    pred_final_cbm = y_test_predict[:,1]\n",
    "    y_test_predict = trained_models[3].predict_proba(data)\n",
    "    pred_final_lgbm = y_test_predict[:,1]\n",
    "    y_test_predict = trained_models[5].predict_proba(data)\n",
    "    pred_final_xgbm = y_test_predict[:,1]\n",
    "    \n",
    "    pred_df= pd.DataFrame({'lgbm':pred_final_lgbm,'xgbm':pred_final_xgbm,'catboost':pred_final_cbm})\n",
    "    pred_df['mean'] = (pred_df['lgbm'] + pred_df['xgbm'] + pred_df['catboost'])/3\n",
    "    pred_mean_values=pred_df['mean'].values\n",
    "    \n",
    "    # Merge the prediction and customer_ID into submission dataframe\n",
    "    submission = pd.DataFrame({\"customer_ID\":data.index,\"prediction\":pred_final_cbm})\n",
    "    return submission, pred_df"
   ]
  },
  {
   "cell_type": "code",
   "execution_count": 25,
   "id": "5a209dee",
   "metadata": {
    "execution": {
     "iopub.execute_input": "2022-09-28T09:41:06.122146Z",
     "iopub.status.busy": "2022-09-28T09:41:06.121723Z",
     "iopub.status.idle": "2022-09-28T09:42:12.613460Z",
     "shell.execute_reply": "2022-09-28T09:42:12.612082Z"
    },
    "papermill": {
     "duration": 66.564835,
     "end_time": "2022-09-28T09:42:12.650747",
     "exception": false,
     "start_time": "2022-09-28T09:41:06.085912",
     "status": "completed"
    },
    "tags": []
   },
   "outputs": [
    {
     "name": "stdout",
     "output_type": "stream",
     "text": [
      "The shape of the testdata is: (11363762, 94)\n",
      "The number of uniqe 'customer_IDs' is:  924621\n"
     ]
    }
   ],
   "source": [
    "#load test data\n",
    "test_data = pd.read_parquet('../input/amex-parquet/test_data.parquet',columns=columns_to_load)\n",
    "print(\"The shape of the testdata is:\", test_data.shape)\n",
    "print(\"The number of uniqe 'customer_IDs' is: \", len(pd.unique(test_data['customer_ID'])))"
   ]
  },
  {
   "cell_type": "code",
   "execution_count": 26,
   "id": "56514ba8",
   "metadata": {
    "execution": {
     "iopub.execute_input": "2022-09-28T09:42:12.724200Z",
     "iopub.status.busy": "2022-09-28T09:42:12.723736Z",
     "iopub.status.idle": "2022-09-28T09:42:12.731213Z",
     "shell.execute_reply": "2022-09-28T09:42:12.730100Z"
    },
    "papermill": {
     "duration": 0.046938,
     "end_time": "2022-09-28T09:42:12.733764",
     "exception": false,
     "start_time": "2022-09-28T09:42:12.686826",
     "status": "completed"
    },
    "tags": []
   },
   "outputs": [
    {
     "name": "stdout",
     "output_type": "stream",
     "text": [
      "[1000002, 2000004, 3000003, 4000008, 5000013, 6000008, 7000009, 8000009, 9000004, 10000011, 11000010, 11363761]\n"
     ]
    }
   ],
   "source": [
    "#get indexes for processing batches of data\n",
    "indexes_for_batching_sub = get_indexes_for_batching(test_data)\n",
    "print(indexes_for_batching_sub)"
   ]
  },
  {
   "cell_type": "code",
   "execution_count": 27,
   "id": "35c9777a",
   "metadata": {
    "execution": {
     "iopub.execute_input": "2022-09-28T09:42:12.811281Z",
     "iopub.status.busy": "2022-09-28T09:42:12.809897Z",
     "iopub.status.idle": "2022-09-28T09:43:00.257968Z",
     "shell.execute_reply": "2022-09-28T09:43:00.256113Z"
    },
    "papermill": {
     "duration": 47.492257,
     "end_time": "2022-09-28T09:43:00.260874",
     "exception": false,
     "start_time": "2022-09-28T09:42:12.768617",
     "status": "completed"
    },
    "tags": []
   },
   "outputs": [
    {
     "name": "stdout",
     "output_type": "stream",
     "text": [
      "0 (81358, 93)\n",
      "1 (162617, 93)\n",
      "2 (244057, 93)\n",
      "3 (325447, 93)\n",
      "4 (406812, 93)\n",
      "5 (488256, 93)\n",
      "6 (569550, 93)\n",
      "7 (650898, 93)\n",
      "8 (732210, 93)\n",
      "9 (813535, 93)\n",
      "10 (895031, 93)\n",
      "11 (924621, 93)\n",
      "The test features shape is:  (924621, 93)\n"
     ]
    }
   ],
   "source": [
    "#creating the mean features for submission\n",
    "data_features = combine_customer_entries(test_data, indexes_for_batching_sub, 'mean', clean_rows=True)\n",
    "print(\"The test features shape is: \", data_features.shape)\n",
    "del(test_data)"
   ]
  },
  {
   "cell_type": "code",
   "execution_count": 28,
   "id": "59c67d2d",
   "metadata": {
    "execution": {
     "iopub.execute_input": "2022-09-28T09:43:00.333133Z",
     "iopub.status.busy": "2022-09-28T09:43:00.332659Z",
     "iopub.status.idle": "2022-09-28T09:43:06.215592Z",
     "shell.execute_reply": "2022-09-28T09:43:06.213921Z"
    },
    "papermill": {
     "duration": 5.922557,
     "end_time": "2022-09-28T09:43:06.219084",
     "exception": false,
     "start_time": "2022-09-28T09:43:00.296527",
     "status": "completed"
    },
    "tags": []
   },
   "outputs": [
    {
     "name": "stdout",
     "output_type": "stream",
     "text": [
      "The predictions of all the three models shape:  (924621, 4)\n",
      "         lgbm   xgbm  catboost   mean\n",
      "0       0.050  0.026     0.011  0.029\n",
      "1       0.002  0.001     0.002  0.002\n",
      "2       0.021  0.021     0.036  0.026\n",
      "3       0.667  0.578     0.604  0.617\n",
      "4       0.834  0.815     0.800  0.816\n",
      "...       ...    ...       ...    ...\n",
      "924616  0.023  0.027     0.015  0.022\n",
      "924617  0.661  0.602     0.780  0.681\n",
      "924618  0.672  0.696     0.557  0.642\n",
      "924619  0.663  0.433     0.518  0.538\n",
      "924620  0.164  0.059     0.160  0.128\n",
      "\n",
      "[924621 rows x 4 columns]\n"
     ]
    }
   ],
   "source": [
    "submission, pred_df = create_submission(data_features, trained_models)\n",
    "print(\"The predictions of all the three models shape: \", pred_df.shape)\n",
    "print(pred_df)"
   ]
  },
  {
   "cell_type": "code",
   "execution_count": 29,
   "id": "b0109524",
   "metadata": {
    "execution": {
     "iopub.execute_input": "2022-09-28T09:43:06.294749Z",
     "iopub.status.busy": "2022-09-28T09:43:06.294294Z",
     "iopub.status.idle": "2022-09-28T09:43:06.305425Z",
     "shell.execute_reply": "2022-09-28T09:43:06.304052Z"
    },
    "papermill": {
     "duration": 0.051874,
     "end_time": "2022-09-28T09:43:06.307925",
     "exception": false,
     "start_time": "2022-09-28T09:43:06.256051",
     "status": "completed"
    },
    "tags": []
   },
   "outputs": [
    {
     "name": "stdout",
     "output_type": "stream",
     "text": [
      "The submission shape:  (924621, 2)\n",
      "                                              customer_ID  prediction\n",
      "0       00000469ba478561f23a92a868bd366de6f6527a684c9a...       0.011\n",
      "1       00001bf2e77ff879fab36aa4fac689b9ba411dae63ae39...       0.002\n",
      "2       0000210045da4f81e5f122c6bde5c2a617d03eef67f82c...       0.036\n",
      "3       00003b41e58ede33b8daf61ab56d9952f17c9ad1c3976c...       0.604\n",
      "4       00004b22eaeeeb0ec976890c1d9bfc14fd9427e98c4ee9...       0.800\n",
      "...                                                   ...         ...\n",
      "924616  ffff952c631f2c911b8a2a8ca56ea6e656309a83d2f64c...       0.015\n",
      "924617  ffffcf5df59e5e0bba2a5ac4578a34e2b5aa64a1546cd3...       0.780\n",
      "924618  ffffd61f098cc056dbd7d2a21380c4804bbfe60856f475...       0.557\n",
      "924619  ffffddef1fc3643ea179c93245b68dca0f36941cd83977...       0.518\n",
      "924620  fffffa7cf7e453e1acc6a1426475d5cb9400859f82ff61...       0.160\n",
      "\n",
      "[924621 rows x 2 columns]\n"
     ]
    }
   ],
   "source": [
    "print(\"The submission shape: \", submission.shape)\n",
    "print(submission)"
   ]
  }
 ],
 "metadata": {
  "kernelspec": {
   "display_name": "Python 3",
   "language": "python",
   "name": "python3"
  },
  "language_info": {
   "codemirror_mode": {
    "name": "ipython",
    "version": 3
   },
   "file_extension": ".py",
   "mimetype": "text/x-python",
   "name": "python",
   "nbconvert_exporter": "python",
   "pygments_lexer": "ipython3",
   "version": "3.8.8"
  },
  "papermill": {
   "default_parameters": {},
   "duration": 1959.274779,
   "end_time": "2022-09-28T09:43:12.836059",
   "environment_variables": {},
   "exception": null,
   "input_path": "__notebook__.ipynb",
   "output_path": "__notebook__.ipynb",
   "parameters": {},
   "start_time": "2022-09-28T09:10:33.561280",
   "version": "2.3.4"
  }
 },
 "nbformat": 4,
 "nbformat_minor": 5
}
